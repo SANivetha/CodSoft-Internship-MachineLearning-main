{
 "cells": [
  {
   "cell_type": "markdown",
   "id": "7e5f2b30",
   "metadata": {},
   "source": [
    "# MOVIE GENRE CLASSIFICATION "
   ]
  },
  {
   "cell_type": "raw",
   "id": "a618577a",
   "metadata": {},
   "source": [
    "Create a machine learning model that can predict the genre of a\n",
    "movie based on its plot summary or other textual information. You\n",
    "can use techniques like TF-IDF or word embeddings with classifiers\n",
    "such as Naive Bayes, Logistic Regression, or Support Vector\n",
    "Machines."
   ]
  },
  {
   "cell_type": "markdown",
   "id": "a644aacc",
   "metadata": {},
   "source": [
    "# importing necessary libraries"
   ]
  },
  {
   "cell_type": "code",
   "execution_count": 1,
   "id": "a021cf62",
   "metadata": {},
   "outputs": [],
   "source": [
    "import pandas as pd\n",
    "import numpy as np\n",
    "from sklearn.feature_extraction.text import TfidfVectorizer\n",
    "from sklearn.multioutput import MultiOutputClassifier\n",
    "from sklearn.naive_bayes import MultinomialNB\n",
    "from sklearn.preprocessing import MultiLabelBinarizer\n",
    "from sklearn.metrics import accuracy_score, precision_score, recall_score, f1_score\n",
    "from tqdm import tqdm"
   ]
  },
  {
   "cell_type": "markdown",
   "id": "6d59b662",
   "metadata": {},
   "source": [
    "# List of Genres learnt from the Training Data"
   ]
  },
  {
   "cell_type": "code",
   "execution_count": 2,
   "id": "fbbe5989",
   "metadata": {},
   "outputs": [],
   "source": [
    "genre_list = [ 'action', 'adult', 'adventure', 'animation', 'biography', 'comedy', 'crime', 'documentary', 'family', 'fantasy', 'game-show', 'history', 'horror', 'music', 'musical', 'mystery', 'news', 'reality-tv', 'romance', 'sci-fi', 'short', 'sport', 'talk-show', 'thriller', 'war', 'western' ]"
   ]
  },
  {
   "cell_type": "markdown",
   "id": "ee35cea3",
   "metadata": {},
   "source": [
    "# Define a fallback genre for movies which the model finds very hard to predict"
   ]
  },
  {
   "cell_type": "code",
   "execution_count": 3,
   "id": "b394a819",
   "metadata": {},
   "outputs": [],
   "source": [
    "fallback_genre = 'Unknown'"
   ]
  },
  {
   "cell_type": "markdown",
   "id": "180ccde4",
   "metadata": {},
   "source": [
    "# Load the Training dataset from train_data.txt"
   ]
  },
  {
   "cell_type": "code",
   "execution_count": 5,
   "id": "617b3444",
   "metadata": {},
   "outputs": [
    {
     "name": "stderr",
     "output_type": "stream",
     "text": [
      "Loading Train Data: 100%|█████████████████████████████████████████████████████████████| 50/50 [00:00<00:00, 207.94it/s]\n"
     ]
    }
   ],
   "source": [
    "try:\n",
    "    with tqdm(total=50, desc=\"Loading Train Data\") as pbar:\n",
    "        train_data = pd.read_csv('C:/Users/deepa/Desktop/MOVIE GENRE CLASSIFICATION/train_data.txt', sep=':::', header=None, names=['SerialNumber', 'MOVIE_NAME', 'GENRE', 'MOVIE_PLOT'], engine='python')\n",
    "        pbar.update(50)\n",
    "except Exception as e:\n",
    "    print(f\"Error loading train_data: {e}\")\n",
    "    raise"
   ]
  },
  {
   "cell_type": "markdown",
   "id": "6d10957f",
   "metadata": {},
   "source": [
    "# Data preprocessing for training data"
   ]
  },
  {
   "cell_type": "code",
   "execution_count": 6,
   "id": "10b3d7a4",
   "metadata": {},
   "outputs": [],
   "source": [
    "X_train = train_data['MOVIE_PLOT'].astype(str).apply(lambda doc: doc.lower())\n",
    "genre_labels = [genre.split(', ') for genre in train_data['GENRE']]\n",
    "mlb = MultiLabelBinarizer()\n",
    "y_train = mlb.fit_transform(genre_labels)"
   ]
  },
  {
   "cell_type": "markdown",
   "id": "60b362f8",
   "metadata": {},
   "source": [
    "# TF-IDF Vectorization"
   ]
  },
  {
   "cell_type": "code",
   "execution_count": 7,
   "id": "14055b5a",
   "metadata": {},
   "outputs": [],
   "source": [
    "tfidf_vectorizer = TfidfVectorizer(max_features=5000)  # You can adjust max_features"
   ]
  },
  {
   "cell_type": "markdown",
   "id": "9de7c907",
   "metadata": {},
   "source": [
    "# Fit and transform the training data with progress bar"
   ]
  },
  {
   "cell_type": "code",
   "execution_count": 8,
   "id": "12762bac",
   "metadata": {},
   "outputs": [
    {
     "name": "stderr",
     "output_type": "stream",
     "text": [
      "Vectorizing Training Data: 100%|███████████████████████████████████████████████████████| 50/50 [00:03<00:00, 13.14it/s]\n"
     ]
    }
   ],
   "source": [
    "with tqdm(total=50, desc=\"Vectorizing Training Data\") as pbar:\n",
    "    X_train_tfidf = tfidf_vectorizer.fit_transform(X_train)\n",
    "    pbar.update(50)"
   ]
  },
  {
   "cell_type": "markdown",
   "id": "79cd55ba",
   "metadata": {},
   "source": [
    "# Train a MultiOutput Naive Bayes classifier using the training data"
   ]
  },
  {
   "cell_type": "code",
   "execution_count": 9,
   "id": "b09dbd92",
   "metadata": {},
   "outputs": [
    {
     "name": "stderr",
     "output_type": "stream",
     "text": [
      "Training Model: 100%|█████████████████████████████████████████████████████████████████| 50/50 [00:00<00:00, 126.67it/s]\n"
     ]
    }
   ],
   "source": [
    "with tqdm(total=50, desc=\"Training Model\") as pbar:\n",
    "    naive_bayes = MultinomialNB()\n",
    "    multi_output_classifier = MultiOutputClassifier(naive_bayes)\n",
    "    multi_output_classifier.fit(X_train_tfidf, y_train)\n",
    "    pbar.update(50)"
   ]
  },
  {
   "cell_type": "markdown",
   "id": "d09e0030",
   "metadata": {},
   "source": [
    "# Load your test dataset from test_data.txt"
   ]
  },
  {
   "cell_type": "code",
   "execution_count": 10,
   "id": "7b56d978",
   "metadata": {},
   "outputs": [
    {
     "name": "stderr",
     "output_type": "stream",
     "text": [
      "Loading Test Data: 100%|██████████████████████████████████████████████████████████████| 50/50 [00:00<00:00, 151.70it/s]\n"
     ]
    }
   ],
   "source": [
    "try:\n",
    "    with tqdm(total=50, desc=\"Loading Test Data\") as pbar:\n",
    "        test_data = pd.read_csv('C:/Users/deepa/Desktop/MOVIE GENRE CLASSIFICATION/test_data.txt', sep=':::', header=None, names=['SerialNumber', 'MOVIE_NAME', 'MOVIE_PLOT'], engine='python')\n",
    "        pbar.update(50)\n",
    "except Exception as e:\n",
    "    print(f\"Error loading test_data: {e}\")\n",
    "    raise"
   ]
  },
  {
   "cell_type": "markdown",
   "id": "d2025ebd",
   "metadata": {},
   "source": [
    "# Data preprocessing for test data"
   ]
  },
  {
   "cell_type": "code",
   "execution_count": 11,
   "id": "f6368d42",
   "metadata": {},
   "outputs": [],
   "source": [
    "X_test = test_data['MOVIE_PLOT'].astype(str).apply(lambda doc: doc.lower())"
   ]
  },
  {
   "cell_type": "markdown",
   "id": "cb5ce4fa",
   "metadata": {},
   "source": [
    "# Transform the test data with progress bar"
   ]
  },
  {
   "cell_type": "code",
   "execution_count": 12,
   "id": "62854461",
   "metadata": {},
   "outputs": [
    {
     "name": "stderr",
     "output_type": "stream",
     "text": [
      "Vectorizing Test Data: 100%|███████████████████████████████████████████████████████████| 50/50 [00:03<00:00, 13.30it/s]\n"
     ]
    }
   ],
   "source": [
    "with tqdm(total=50, desc=\"Vectorizing Test Data\") as pbar:\n",
    "    X_test_tfidf = tfidf_vectorizer.transform(X_test)\n",
    "    pbar.update(50)"
   ]
  },
  {
   "cell_type": "markdown",
   "id": "2b6c401b",
   "metadata": {},
   "source": [
    "# Predict genres on the test data"
   ]
  },
  {
   "cell_type": "code",
   "execution_count": 14,
   "id": "daf33576",
   "metadata": {},
   "outputs": [
    {
     "name": "stderr",
     "output_type": "stream",
     "text": [
      "Predicting on Test Data: 100%|████████████████████████████████████████████████████████| 50/50 [00:00<00:00, 169.94it/s]\n"
     ]
    }
   ],
   "source": [
    "with tqdm(total=50, desc=\"Predicting on Test Data\") as pbar:\n",
    "    y_pred = multi_output_classifier.predict(X_test_tfidf)\n",
    "    pbar.update(50)"
   ]
  },
  {
   "cell_type": "markdown",
   "id": "699aa70c",
   "metadata": {},
   "source": [
    "# Create a DataFrame for test data with movie names and predicted genres"
   ]
  },
  {
   "cell_type": "code",
   "execution_count": 15,
   "id": "d5366829",
   "metadata": {},
   "outputs": [],
   "source": [
    "test_movie_names = test_data['MOVIE_NAME']\n",
    "predicted_genres = mlb.inverse_transform(y_pred)\n",
    "test_results = pd.DataFrame({'MOVIE_NAME': test_movie_names, 'PREDICTED_GENRES': predicted_genres})"
   ]
  },
  {
   "cell_type": "markdown",
   "id": "9569846f",
   "metadata": {},
   "source": [
    "# Replace empty unpredicted genres with the fallback genre"
   ]
  },
  {
   "cell_type": "code",
   "execution_count": 16,
   "id": "731fa421",
   "metadata": {},
   "outputs": [],
   "source": [
    "test_results['PREDICTED_GENRES'] = test_results['PREDICTED_GENRES'].apply(lambda genres: [fallback_genre] if len(genres) == 0 else genres)\n",
    "test_results['Serial_Number']=test_data['SerialNumber']\n",
    "test_results['MOVIE_PLOT']=test_data['MOVIE_PLOT']"
   ]
  },
  {
   "cell_type": "markdown",
   "id": "60df7a89",
   "metadata": {},
   "source": [
    "# Write the results to an output text file with proper formatting"
   ]
  },
  {
   "cell_type": "code",
   "execution_count": 17,
   "id": "fe9cdcd9",
   "metadata": {},
   "outputs": [],
   "source": [
    "with open(\"test_data_solution.txt\", \"w\", encoding=\"utf-8\") as output_file:\n",
    "    for _, row in test_results.iterrows():\n",
    "        id=row['Serial_Number']\n",
    "        movie_name = row['MOVIE_NAME']\n",
    "        genre_str = ', '.join(row['PREDICTED_GENRES'])\n",
    "        plot=row['MOVIE_PLOT']\n",
    "        output_file.write(f\"{id} ::: {movie_name} ::: {genre_str} ::: {plot}\\n\")"
   ]
  },
  {
   "cell_type": "markdown",
   "id": "33dfa6a1",
   "metadata": {},
   "source": [
    "# Calculate evaluation metrics using training labels (as a proxy)"
   ]
  },
  {
   "cell_type": "code",
   "execution_count": 18,
   "id": "5637c512",
   "metadata": {},
   "outputs": [],
   "source": [
    "y_train_pred = multi_output_classifier.predict(X_train_tfidf)"
   ]
  },
  {
   "cell_type": "markdown",
   "id": "e812f634",
   "metadata": {},
   "source": [
    "# Calculate evaluation metrics"
   ]
  },
  {
   "cell_type": "code",
   "execution_count": 19,
   "id": "802c1c21",
   "metadata": {},
   "outputs": [],
   "source": [
    "accuracy = accuracy_score(y_train, y_train_pred)\n",
    "precision = precision_score(y_train, y_train_pred, average='micro')\n",
    "recall = recall_score(y_train, y_train_pred, average='micro')\n",
    "f1 = f1_score(y_train, y_train_pred, average='micro')"
   ]
  },
  {
   "cell_type": "markdown",
   "id": "9253931e",
   "metadata": {},
   "source": [
    "# print accuracy precision recall f1-score"
   ]
  },
  {
   "cell_type": "code",
   "execution_count": 20,
   "id": "bd8255a7",
   "metadata": {},
   "outputs": [
    {
     "name": "stdout",
     "output_type": "stream",
     "text": [
      "\n",
      "\n",
      "Model Evaluation Metrics:\n",
      "\n",
      "Accuracy: 27.73%\n",
      "\n",
      "Precision: 0.72\n",
      "\n",
      "Recall: 0.28\n",
      "\n",
      "F1-score: 0.40\n",
      "\n"
     ]
    }
   ],
   "source": [
    "print(\"\\n\\nModel Evaluation Metrics:\\n\")\n",
    "print(f\"Accuracy: {accuracy * 100:.2f}%\\n\")\n",
    "print(f\"Precision: {precision:.2f}\\n\")\n",
    "print(f\"Recall: {recall:.2f}\\n\")\n",
    "print(f\"F1-score: {f1:.2f}\\n\")"
   ]
  }
 ],
 "metadata": {
  "kernelspec": {
   "display_name": "Python 3 (ipykernel)",
   "language": "python",
   "name": "python3"
  },
  "language_info": {
   "codemirror_mode": {
    "name": "ipython",
    "version": 3
   },
   "file_extension": ".py",
   "mimetype": "text/x-python",
   "name": "python",
   "nbconvert_exporter": "python",
   "pygments_lexer": "ipython3",
   "version": "3.10.9"
  }
 },
 "nbformat": 4,
 "nbformat_minor": 5
}
